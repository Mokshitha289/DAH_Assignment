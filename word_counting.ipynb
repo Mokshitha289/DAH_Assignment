{
  "nbformat": 4,
  "nbformat_minor": 0,
  "metadata": {
    "colab": {
      "provenance": []
    },
    "kernelspec": {
      "name": "python3",
      "display_name": "Python 3"
    },
    "language_info": {
      "name": "python"
    }
  },
  "cells": [
    {
      "cell_type": "code",
      "source": [
        "import threading   \n",
        "# Define the mapper function\n",
        "def mapper(words):\n",
        "    word_count = {}\n",
        "    for word in words:\n",
        "        if word in word_count:\n",
        "            word_count[word] += 1\n",
        "        else:\n",
        "            word_count[word] = 1\n",
        "    return word_count.items()\n",
        "# Define the reducer function\n",
        "def reducer(word, counts):\n",
        "    return (word, sum(counts))\n",
        "# Define the MapReduce function\n",
        "def map_reduce(words):\n",
        "    # Split the input text into individual words\n",
        "    words = words.split()\n",
        "    # Map the words to key-value pairs\n",
        "    mapped_pairs = []\n",
        "    for pair in mapper(words):\n",
        "        mapped_pairs.append(pair)\n",
        "    # Shuffle the intermediate key-value pairs\n",
        "    shuffled_pairs = {}\n",
        "    for pair in mapped_pairs:\n",
        "        if pair[0] in shuffled_pairs:\n",
        "            shuffled_pairs[pair[0]].append(pair[1])\n",
        "        else:\n",
        "            shuffled_pairs[pair[0]] = [pair[1]]\n",
        "    # Reduce the shuffled key-value pairs\n",
        "    reduced_pairs = []\n",
        "    for key, value in shuffled_pairs.items():\n",
        "        reduced_pairs.append(reducer(key, value))\n",
        "    return reduced_pairs\n",
        "# Define the main function to test the MapReduce function\n",
        "def main():\n",
        "    # Read the input text from file\n",
        "    with open('input.txt', 'r') as f:\n",
        "        words = f.read()\n",
        "    # Call the MapReduce function\n",
        "    result = map_reduce(words)\n",
        "    # Print the output\n",
        "    for pair in result:\n",
        "        print(pair)\n",
        "if __name__ == '__main__':\n",
        "    main()"
      ],
      "metadata": {
        "colab": {
          "base_uri": "https://localhost:8080/"
        },
        "id": "SegZz5Ioqwd_",
        "outputId": "c93f503a-4bbe-4b44-9a37-52c60fd8404d"
      },
      "execution_count": 2,
      "outputs": [
        {
          "output_type": "stream",
          "name": "stdout",
          "text": [
            "('This', 1)\n",
            "('is', 2)\n",
            "('an', 1)\n",
            "('Apple', 2)\n",
            "('.', 2)\n",
            "('red', 1)\n",
            "('in', 1)\n",
            "('colour', 1)\n"
          ]
        }
      ]
    },
    {
      "cell_type": "code",
      "execution_count": 3,
      "metadata": {
        "colab": {
          "base_uri": "https://localhost:8080/"
        },
        "id": "mZ0BkbwuJ_4y",
        "outputId": "043af4b4-7cf5-42e1-d5c0-0f6c70c34ba9"
      },
      "outputs": [
        {
          "output_type": "stream",
          "name": "stdout",
          "text": [
            "('T', 1)\n",
            "('h', 1)\n",
            "('i', 4)\n",
            "('s', 3)\n",
            "(' ', 9)\n",
            "('a', 1)\n",
            "('n', 2)\n",
            "('A', 2)\n",
            "('p', 4)\n",
            "('l', 3)\n",
            "('e', 3)\n",
            "('.', 2)\n",
            "('\\n', 2)\n",
            "('r', 2)\n",
            "('d', 1)\n",
            "('c', 1)\n",
            "('o', 2)\n",
            "('u', 1)\n"
          ]
        }
      ],
      "source": [
        "import threading   \n",
        "# Define the mapper function\n",
        "def mapper(words):\n",
        "    word_count = {}\n",
        "    for word in words:\n",
        "        if word in word_count:\n",
        "            word_count[word] += 1\n",
        "        else:\n",
        "            word_count[word] = 1\n",
        "    return word_count.items()\n",
        "\n",
        "# Define the main function to test the MapReduce function\n",
        "def main():\n",
        "    # Read the input text from file\n",
        "    with open('input.txt', 'r') as f:\n",
        "        words = f.read()\n",
        "    # Call the Mapper function\n",
        "    result = mapper(words)\n",
        "    # Print the output\n",
        "    for pair in result:\n",
        "        print(pair)\n",
        "if __name__ == '__main__':\n",
        "    main()"
      ]
    },
    {
      "cell_type": "code",
      "source": [
        "#Splitting words\n",
        "# Define the MapReduce function\n",
        "def map_reduce(words):\n",
        "    # Split the input text into individual words\n",
        "    words = words.split()\n",
        "    print(words)\n",
        "# Define the main function to test the MapReduce function\n",
        "def main():\n",
        "    # Read the input text from file\n",
        "    with open('input.txt', 'r') as f:\n",
        "        words = f.read()\n",
        "    # Call the MapReduce function\n",
        "    result = map_reduce(words)\n",
        "    \n",
        "if __name__ == '__main__':\n",
        "    main()"
      ],
      "metadata": {
        "colab": {
          "base_uri": "https://localhost:8080/"
        },
        "id": "Z2BHeWSQm-vL",
        "outputId": "6dc51409-3c86-468e-dfd6-0c824ab23e70"
      },
      "execution_count": 4,
      "outputs": [
        {
          "output_type": "stream",
          "name": "stdout",
          "text": [
            "['This', 'is', 'an', 'Apple', '.', 'Apple', 'is', 'red', 'in', 'colour', '.']\n"
          ]
        }
      ]
    },
    {
      "cell_type": "code",
      "source": [
        "#mapping words to key-value pairs\n",
        "# Define the MapReduce function\n",
        "def map_reduce(words):\n",
        "    # Split the input text into individual words\n",
        "    words = words.split()\n",
        "    # Map the words to key-value pairs\n",
        "    mapped_pairs = []\n",
        "    for pair in mapper(words):\n",
        "        mapped_pairs.append(pair)\n",
        "    print(mapped_pairs)\n",
        "# Define the main function to test the MapReduce function\n",
        "def main():\n",
        "    # Read the input text from file\n",
        "    with open('input.txt', 'r') as f:\n",
        "        words = f.read()\n",
        "    # Call the MapReduce function\n",
        "    result = map_reduce(words)\n",
        "    \n",
        "if __name__ == '__main__':\n",
        "    main()\n",
        "  "
      ],
      "metadata": {
        "colab": {
          "base_uri": "https://localhost:8080/"
        },
        "id": "tcX5lrQUm_UP",
        "outputId": "a5e4469c-e5db-4acf-d8dc-be800680d0b0"
      },
      "execution_count": 5,
      "outputs": [
        {
          "output_type": "stream",
          "name": "stdout",
          "text": [
            "[('This', 1), ('is', 2), ('an', 1), ('Apple', 2), ('.', 2), ('red', 1), ('in', 1), ('colour', 1)]\n"
          ]
        }
      ]
    },
    {
      "cell_type": "code",
      "source": [
        "#shuffling key value pairs\n",
        "# Define the MapReduce function\n",
        "def map_reduce(words):\n",
        "    # Split the input text into individual words\n",
        "    words = words.split()\n",
        "    # Map the words to key-value pairs\n",
        "    mapped_pairs = []\n",
        "    for pair in mapper(words):\n",
        "        mapped_pairs.append(pair)\n",
        "    # Shuffle the intermediate key-value pairs\n",
        "    shuffled_pairs = {}\n",
        "    for pair in mapped_pairs:\n",
        "        if pair[0] in shuffled_pairs:\n",
        "            shuffled_pairs[pair[0]].append(pair[1])\n",
        "        else:\n",
        "            shuffled_pairs[pair[0]] = [pair[1]]\n",
        "    print(shuffled_pairs)\n",
        "# Define the main function to test the MapReduce function\n",
        "def main():\n",
        "    # Read the input text from file\n",
        "    with open('input.txt', 'r') as f:\n",
        "        words = f.read()\n",
        "    # Call the MapReduce function\n",
        "    result = map_reduce(words)\n",
        "    \n",
        "if __name__ == '__main__':\n",
        "    main()"
      ],
      "metadata": {
        "colab": {
          "base_uri": "https://localhost:8080/"
        },
        "id": "DhC48PyZoc1P",
        "outputId": "182b412a-006a-48d4-aa1b-fe56f6de59d6"
      },
      "execution_count": 6,
      "outputs": [
        {
          "output_type": "stream",
          "name": "stdout",
          "text": [
            "{'This': [1], 'is': [2], 'an': [1], 'Apple': [2], '.': [2], 'red': [1], 'in': [1], 'colour': [1]}\n"
          ]
        }
      ]
    },
    {
      "cell_type": "code",
      "source": [
        "#reduce shuffle key value pairs\n",
        "# Define the reducer function\n",
        "def reducer(word, counts):\n",
        "    return (word, sum(counts))\n",
        "# Define the MapReduce function\n",
        "def map_reduce(words):\n",
        "    # Split the input text into individual words\n",
        "    words = words.split()\n",
        "    # Map the words to key-value pairs\n",
        "    mapped_pairs = []\n",
        "    for pair in mapper(words):\n",
        "        mapped_pairs.append(pair)\n",
        "    # Shuffle the intermediate key-value pairs\n",
        "    shuffled_pairs = {}\n",
        "    for pair in mapped_pairs:\n",
        "        if pair[0] in shuffled_pairs:\n",
        "            shuffled_pairs[pair[0]].append(pair[1])\n",
        "        else:\n",
        "            shuffled_pairs[pair[0]] = [pair[1]]\n",
        "    # Reduce the shuffled key-value pairs\n",
        "    reduced_pairs = []\n",
        "    for key, value in shuffled_pairs.items():\n",
        "        reduced_pairs.append(reducer(key, value))\n",
        "    print(reduced_pairs)\n",
        "\n",
        "# Define the main function to test the MapReduce function\n",
        "def main():\n",
        "    # Read the input text from file\n",
        "    with open('input.txt', 'r') as f:\n",
        "        words = f.read()\n",
        "    # Call the MapReduce function\n",
        "    result = map_reduce(words)\n",
        "\n",
        "    \n",
        "if __name__ == '__main__':\n",
        "    main()"
      ],
      "metadata": {
        "colab": {
          "base_uri": "https://localhost:8080/"
        },
        "id": "uSmidnETo22n",
        "outputId": "98d145cb-c965-4674-e9f5-b12019ad9f3c"
      },
      "execution_count": 7,
      "outputs": [
        {
          "output_type": "stream",
          "name": "stdout",
          "text": [
            "[('This', 1), ('is', 2), ('an', 1), ('Apple', 2), ('.', 2), ('red', 1), ('in', 1), ('colour', 1)]\n"
          ]
        }
      ]
    },
    {
      "cell_type": "code",
      "source": [
        "!pip3 freeze > requirements.txt "
      ],
      "metadata": {
        "id": "sBqMrBQlwcqe"
      },
      "execution_count": 8,
      "outputs": []
    }
  ]
}